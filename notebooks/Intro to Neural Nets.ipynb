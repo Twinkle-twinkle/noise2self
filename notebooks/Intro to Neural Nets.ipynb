{
 "cells": [
  {
   "cell_type": "markdown",
   "metadata": {},
   "source": [
    "# Noise2Self for Neural Nets\n",
    "\n",
    "This is a simple notebook demonstrating the principle of using self-supervision to train denoising networks.\n",
    "\n",
    "For didactic purposes, we use a simple dataset (Gaussian noise on MNIST), a simple model (a small UNet), and a short training (100 iterations on a CPU). This notebook runs on a MacBook Pro in under one minute."
   ]
  },
  {
   "cell_type": "code",
   "execution_count": 1,
   "metadata": {},
   "outputs": [],
   "source": [
    "%load_ext autoreload\n",
    "%autoreload 2"
   ]
  },
  {
   "cell_type": "code",
   "execution_count": 2,
   "metadata": {},
   "outputs": [],
   "source": [
    "import sys\n",
    "sys.path.append(\"..\")"
   ]
  },
  {
   "cell_type": "code",
   "execution_count": 3,
   "metadata": {},
   "outputs": [],
   "source": [
    "from util import show, plot_images, plot_tensors"
   ]
  },
  {
   "cell_type": "markdown",
   "metadata": {},
   "source": [
    "# Data"
   ]
  },
  {
   "cell_type": "markdown",
   "metadata": {},
   "source": [
    "We demonstrate the use of a self-supervised denoising objective on a synthetically noised version of MNIST."
   ]
  },
  {
   "cell_type": "code",
   "execution_count": null,
   "metadata": {},
   "outputs": [],
   "source": [
    "from torchvision.datasets import MNIST\n",
    "from torchvision import transforms\n",
    "from torch.utils.data import Dataset\n",
    "\n",
    "mnist_train = MNIST('../data/MNIST', download = True,\n",
    "                    transform = transforms.Compose([\n",
    "                        transforms.ToTensor(),\n",
    "                    ]), train = True)\n",
    "\n",
    "mnist_test = MNIST('../data/MNIST', download = True,\n",
    "                    transform = transforms.Compose([\n",
    "                        transforms.ToTensor(),\n",
    "                    ]), train = False)"
   ]
  },
  {
   "cell_type": "code",
   "execution_count": 4,
   "metadata": {},
   "outputs": [],
   "source": [
    "#Unet\n",
    "from torchvision.datasets import MNIST\n",
    "from torchvision import transforms\n",
    "from torch.utils.data import Dataset\n",
    "\n",
    "mnist_train = MNIST('../data/MNIST', download = True,\n",
    "                    transform = transforms.Compose([\n",
    "                        transforms.Resize([32,32]),#Unet\n",
    "                        transforms.ToTensor(),\n",
    "                    ]), train = True)\n",
    "\n",
    "mnist_test = MNIST('../data/MNIST', download = True,\n",
    "                    transform = transforms.Compose([\n",
    "                        transforms.Resize([32,32]),#Unet\n",
    "                        transforms.ToTensor(),\n",
    "                    ]), train = False)"
   ]
  },
  {
   "cell_type": "code",
   "execution_count": 5,
   "metadata": {},
   "outputs": [],
   "source": [
    "from torch import randn\n",
    "def add_noise(img):\n",
    "    return img + randn(img.size())*0.4\n",
    "\n",
    "class SyntheticNoiseDataset(Dataset):\n",
    "    def __init__(self, data, mode='train'):\n",
    "        self.mode = mode\n",
    "        self.data = data\n",
    "        \n",
    "    def __len__(self):\n",
    "        return len(self.data)\n",
    "    \n",
    "    def __getitem__(self, index):\n",
    "        img = self.data[index][0]\n",
    "        return add_noise(img), img"
   ]
  },
  {
   "cell_type": "code",
   "execution_count": null,
   "metadata": {},
   "outputs": [],
   "source": [
    "import numpy as np\n",
    "\n",
    "print(mnist_train)\n",
    "print(mnist_train[0])\n",
    "print(mnist_train[0][1])\n"
   ]
  },
  {
   "cell_type": "code",
   "execution_count": 6,
   "metadata": {},
   "outputs": [],
   "source": [
    "noisy_mnist_train = SyntheticNoiseDataset(mnist_train, 'train')\n",
    "noisy_mnist_test = SyntheticNoiseDataset(mnist_test, 'test')"
   ]
  },
  {
   "cell_type": "code",
   "execution_count": null,
   "metadata": {},
   "outputs": [],
   "source": [
    "import numpy as np\n",
    "\n",
    "print(len(noisy_mnist_train))\n",
    "print(\"num0:\")\n",
    "print(noisy_mnist_train[0])\n",
    "print(\"num0dimention0:\")\n",
    "print(noisy_mnist_train[0][0])\n"
   ]
  },
  {
   "cell_type": "markdown",
   "metadata": {},
   "source": [
    "We will try to learn to predict the clean image on the right from the noisy image on the left."
   ]
  },
  {
   "cell_type": "code",
   "execution_count": 7,
   "metadata": {},
   "outputs": [
    {
     "data": {
      "image/png": "[encoded data removed]",
      "text/plain": [
       "<Figure size 576x288 with 2 Axes>"
      ]
     },
     "metadata": {},
     "output_type": "display_data"
    }
   ],
   "source": [
    "noisy, clean = noisy_mnist_train[0]\n",
    "plot_tensors([noisy[0], clean[0]], ['Noisy Image', 'Clean Image'])"
   ]
  },
  {
   "cell_type": "code",
   "execution_count": null,
   "metadata": {},
   "outputs": [],
   "source": [
    "print(noisy.shape)"
   ]
  },
  {
   "cell_type": "markdown",
   "metadata": {},
   "source": [
    "# Masking\n",
    "\n",
    "The strategy is to train a $J$-invariant version of a neural net by replacing a grid of pixels with the average of their neighbors, then only evaluating the model on the masked pixels."
   ]
  },
  {
   "cell_type": "code",
   "execution_count": 8,
   "metadata": {},
   "outputs": [],
   "source": [
    "from mask import Masker\n",
    "masker = Masker(width = 4, mode='interpolate')"
   ]
  },
  {
   "cell_type": "code",
   "execution_count": null,
   "metadata": {},
   "outputs": [],
   "source": [
    "print(len(masker))"
   ]
  },
  {
   "cell_type": "code",
   "execution_count": 9,
   "metadata": {},
   "outputs": [],
   "source": [
    "net_input, mask = masker.mask(noisy.unsqueeze(0), 0)"
   ]
  },
  {
   "cell_type": "code",
   "execution_count": null,
   "metadata": {
    "scrolled": true
   },
   "outputs": [],
   "source": [
    "print(mask)"
   ]
  },
  {
   "cell_type": "code",
   "execution_count": null,
   "metadata": {},
   "outputs": [],
   "source": [
    "print(noisy.unsqueeze(0).shape)\n",
    "print(noisy.unsqueeze(0)[0,0].shape)\n",
    "print(noisy.unsqueeze(0)[0,0].shape[-2])\n",
    "print(noisy.unsqueeze(0)[0,0].shape[-1])\n",
    "print(noisy.unsqueeze(0)[0,0].shape[0])\n",
    "print(noisy.unsqueeze(0)[0,0].shape[1])\n"
   ]
  },
  {
   "cell_type": "markdown",
   "metadata": {},
   "source": [
    "A mask; the data; the input to the neural net, which doesn't depend on the values of $x$ inside the mask; and the difference between the neural net input and $x$."
   ]
  },
  {
   "cell_type": "code",
   "execution_count": 10,
   "metadata": {},
   "outputs": [
    {
     "data": {
      "image/png": "[encoded data removed]",
      "text/plain": [
       "<Figure size 1152x288 with 4 Axes>"
      ]
     },
     "metadata": {},
     "output_type": "display_data"
    }
   ],
   "source": [
    "plot_tensors([mask, noisy[0], net_input[0], net_input[0] - noisy[0]],\n",
    "            [\"Mask\", \"Noisy Image\", \"Neural Net Input\", \"Difference\"])"
   ]
  },
  {
   "cell_type": "markdown",
   "metadata": {},
   "source": [
    "# Model"
   ]
  },
  {
   "cell_type": "markdown",
   "metadata": {},
   "source": [
    "For our model, we use a short UNet with two levels of up- and down- sampling"
   ]
  },
  {
   "cell_type": "code",
   "execution_count": 11,
   "metadata": {},
   "outputs": [],
   "source": [
    "from models.babyunet import BabyUnet\n",
    "from models.unet import Unet\n",
    "from models.dncnn import DnCNN\n",
    "\n",
    "model = DnCNN(1)"
   ]
  },
  {
   "cell_type": "markdown",
   "metadata": {},
   "source": [
    "# Training"
   ]
  },
  {
   "cell_type": "code",
   "execution_count": 12,
   "metadata": {},
   "outputs": [],
   "source": [
    "from torch.nn import MSELoss\n",
    "from torch.optim import Adam\n",
    "from torch.utils.data import DataLoader\n",
    "\n",
    "loss_function = MSELoss()\n",
    "optimizer = Adam(model.parameters(), lr=0.001)"
   ]
  },
  {
   "cell_type": "code",
   "execution_count": null,
   "metadata": {
    "scrolled": true
   },
   "outputs": [],
   "source": [
    "#self-supervised\n",
    "data_loader = DataLoader(noisy_mnist_train, batch_size=32, shuffle=True)\n",
    "\n",
    "for epoch in range(1):\n",
    "    for i, batch in enumerate(data_loader): \n",
    "        noisy_images, clean_images = batch\n",
    "\n",
    "        net_input, mask = masker.mask(noisy_images, i)\n",
    "        net_output = model(net_input)\n",
    "\n",
    "        loss = loss_function(net_output*mask, noisy_images*mask)\n",
    "\n",
    "        optimizer.zero_grad()\n",
    "\n",
    "        loss.backward()\n",
    "\n",
    "        optimizer.step()\n",
    "\n",
    "        if i % 10 == 0:\n",
    "            print(\"Loss (\", i, \"): \\t\", round(loss.item(), 4))\n",
    "\n",
    "        #if i == 100:\n",
    "        #    break\n",
    "   "
   ]
  },
  {
   "cell_type": "code",
   "execution_count": 13,
   "metadata": {},
   "outputs": [
    {
     "name": "stdout",
     "output_type": "stream",
     "text": [
      "Loss( 0 ) : \t 0.3487\n",
      "Loss( 10 ) : \t 0.0163\n",
      "Loss( 20 ) : \t 0.0083\n",
      "Loss( 30 ) : \t 0.0067\n",
      "Loss( 40 ) : \t 0.0065\n",
      "Loss( 50 ) : \t 0.0066\n",
      "Loss( 60 ) : \t 0.0071\n",
      "Loss( 70 ) : \t 0.0065\n",
      "Loss( 80 ) : \t 0.006\n",
      "Loss( 90 ) : \t 0.0054\n",
      "Loss( 100 ) : \t 0.007\n",
      "Loss( 110 ) : \t 0.0058\n",
      "Loss( 120 ) : \t 0.0052\n",
      "Loss( 130 ) : \t 0.0056\n",
      "Loss( 140 ) : \t 0.0058\n",
      "Loss( 150 ) : \t 0.0051\n",
      "Loss( 160 ) : \t 0.006\n",
      "Loss( 170 ) : \t 0.0051\n",
      "Loss( 180 ) : \t 0.0047\n",
      "Loss( 190 ) : \t 0.0055\n",
      "Loss( 200 ) : \t 0.0081\n",
      "Loss( 210 ) : \t 0.0061\n",
      "Loss( 220 ) : \t 0.0053\n",
      "Loss( 230 ) : \t 0.0057\n",
      "Loss( 240 ) : \t 0.0061\n",
      "Loss( 250 ) : \t 0.0054\n",
      "Loss( 260 ) : \t 0.006\n",
      "Loss( 270 ) : \t 0.0067\n",
      "Loss( 280 ) : \t 0.0056\n",
      "Loss( 290 ) : \t 0.0049\n",
      "Loss( 300 ) : \t 0.0053\n",
      "Loss( 310 ) : \t 0.0056\n",
      "Loss( 320 ) : \t 0.0058\n",
      "Loss( 330 ) : \t 0.005\n",
      "Loss( 340 ) : \t 0.0052\n",
      "Loss( 350 ) : \t 0.0048\n",
      "Loss( 360 ) : \t 0.0055\n",
      "Loss( 370 ) : \t 0.0053\n",
      "Loss( 380 ) : \t 0.0078\n",
      "Loss( 390 ) : \t 0.0058\n",
      "Loss( 400 ) : \t 0.0063\n",
      "Loss( 410 ) : \t 0.005\n",
      "Loss( 420 ) : \t 0.0058\n",
      "Loss( 430 ) : \t 0.0061\n",
      "Loss( 440 ) : \t 0.0046\n",
      "Loss( 450 ) : \t 0.0056\n",
      "Loss( 460 ) : \t 0.0048\n",
      "Loss( 470 ) : \t 0.0054\n",
      "Loss( 480 ) : \t 0.0049\n",
      "Loss( 490 ) : \t 0.0049\n",
      "Loss( 500 ) : \t 0.0068\n",
      "Loss( 510 ) : \t 0.0055\n",
      "Loss( 520 ) : \t 0.007\n",
      "Loss( 530 ) : \t 0.0056\n",
      "Loss( 540 ) : \t 0.0061\n",
      "Loss( 550 ) : \t 0.0062\n",
      "Loss( 560 ) : \t 0.0052\n",
      "Loss( 570 ) : \t 0.0047\n",
      "Loss( 580 ) : \t 0.0047\n",
      "Loss( 590 ) : \t 0.0049\n",
      "Loss( 600 ) : \t 0.0049\n",
      "Loss( 610 ) : \t 0.0057\n",
      "Loss( 620 ) : \t 0.0053\n",
      "Loss( 630 ) : \t 0.0049\n",
      "Loss( 640 ) : \t 0.0051\n",
      "Loss( 650 ) : \t 0.0048\n",
      "Loss( 660 ) : \t 0.0045\n",
      "Loss( 670 ) : \t 0.0058\n",
      "Loss( 680 ) : \t 0.0046\n",
      "Loss( 690 ) : \t 0.0051\n",
      "Loss( 700 ) : \t 0.0059\n",
      "Loss( 710 ) : \t 0.0049\n",
      "Loss( 720 ) : \t 0.0047\n",
      "Loss( 730 ) : \t 0.006\n",
      "Loss( 740 ) : \t 0.0047\n",
      "Loss( 750 ) : \t 0.0042\n",
      "Loss( 760 ) : \t 0.0047\n",
      "Loss( 770 ) : \t 0.0049\n",
      "Loss( 780 ) : \t 0.0055\n",
      "Loss( 790 ) : \t 0.0055\n",
      "Loss( 800 ) : \t 0.005\n",
      "Loss( 810 ) : \t 0.0055\n",
      "Loss( 820 ) : \t 0.0047\n",
      "Loss( 830 ) : \t 0.005\n",
      "Loss( 840 ) : \t 0.0049\n",
      "Loss( 850 ) : \t 0.0049\n",
      "Loss( 860 ) : \t 0.0051\n",
      "Loss( 870 ) : \t 0.0049\n",
      "Loss( 880 ) : \t 0.0056\n",
      "Loss( 890 ) : \t 0.0057\n",
      "Loss( 900 ) : \t 0.0066\n",
      "Loss( 910 ) : \t 0.0052\n",
      "Loss( 920 ) : \t 0.0049\n",
      "Loss( 930 ) : \t 0.0067\n",
      "Loss( 940 ) : \t 0.0053\n",
      "Loss( 950 ) : \t 0.0044\n",
      "Loss( 960 ) : \t 0.0052\n",
      "Loss( 970 ) : \t 0.005\n",
      "Loss( 980 ) : \t 0.0056\n",
      "Loss( 990 ) : \t 0.0042\n",
      "Loss( 1000 ) : \t 0.0055\n",
      "Loss( 1010 ) : \t 0.0065\n",
      "Loss( 1020 ) : \t 0.0052\n",
      "Loss( 1030 ) : \t 0.0072\n",
      "Loss( 1040 ) : \t 0.0045\n",
      "Loss( 1050 ) : \t 0.0058\n",
      "Loss( 1060 ) : \t 0.0054\n",
      "Loss( 1070 ) : \t 0.0048\n",
      "Loss( 1080 ) : \t 0.0046\n",
      "Loss( 1090 ) : \t 0.0051\n",
      "Loss( 1100 ) : \t 0.0039\n",
      "Loss( 1110 ) : \t 0.0047\n",
      "Loss( 1120 ) : \t 0.0053\n",
      "Loss( 1130 ) : \t 0.0045\n",
      "Loss( 1140 ) : \t 0.0043\n",
      "Loss( 1150 ) : \t 0.0047\n",
      "Loss( 1160 ) : \t 0.0049\n",
      "Loss( 1170 ) : \t 0.0048\n",
      "Loss( 1180 ) : \t 0.0048\n",
      "Loss( 1190 ) : \t 0.0054\n",
      "Loss( 1200 ) : \t 0.0049\n",
      "Loss( 1210 ) : \t 0.0047\n",
      "Loss( 1220 ) : \t 0.0048\n",
      "Loss( 1230 ) : \t 0.0051\n",
      "Loss( 1240 ) : \t 0.0049\n",
      "Loss( 1250 ) : \t 0.0046\n",
      "Loss( 1260 ) : \t 0.0059\n",
      "Loss( 1270 ) : \t 0.0046\n",
      "Loss( 1280 ) : \t 0.0051\n",
      "Loss( 1290 ) : \t 0.0069\n",
      "Loss( 1300 ) : \t 0.0048\n",
      "Loss( 1310 ) : \t 0.0044\n",
      "Loss( 1320 ) : \t 0.005\n",
      "Loss( 1330 ) : \t 0.005\n",
      "Loss( 1340 ) : \t 0.0052\n",
      "Loss( 1350 ) : \t 0.005\n",
      "Loss( 1360 ) : \t 0.0042\n",
      "Loss( 1370 ) : \t 0.0044\n",
      "Loss( 1380 ) : \t 0.0055\n",
      "Loss( 1390 ) : \t 0.0047\n",
      "Loss( 1400 ) : \t 0.005\n",
      "Loss( 1410 ) : \t 0.0047\n",
      "Loss( 1420 ) : \t 0.0052\n",
      "Loss( 1430 ) : \t 0.0047\n",
      "Loss( 1440 ) : \t 0.0063\n",
      "Loss( 1450 ) : \t 0.0043\n",
      "Loss( 1460 ) : \t 0.0055\n",
      "Loss( 1470 ) : \t 0.0044\n",
      "Loss( 1480 ) : \t 0.0044\n",
      "Loss( 1490 ) : \t 0.0055\n",
      "Loss( 1500 ) : \t 0.0046\n",
      "Loss( 1510 ) : \t 0.0054\n",
      "Loss( 1520 ) : \t 0.005\n",
      "Loss( 1530 ) : \t 0.0051\n",
      "Loss( 1540 ) : \t 0.0048\n",
      "Loss( 1550 ) : \t 0.0057\n",
      "Loss( 1560 ) : \t 0.0045\n",
      "Loss( 1570 ) : \t 0.0051\n",
      "Loss( 1580 ) : \t 0.0064\n",
      "Loss( 1590 ) : \t 0.0046\n",
      "Loss( 1600 ) : \t 0.0049\n",
      "Loss( 1610 ) : \t 0.0064\n",
      "Loss( 1620 ) : \t 0.0069\n",
      "Loss( 1630 ) : \t 0.0054\n",
      "Loss( 1640 ) : \t 0.0045\n",
      "Loss( 1650 ) : \t 0.0046\n",
      "Loss( 1660 ) : \t 0.0059\n",
      "Loss( 1670 ) : \t 0.0045\n",
      "Loss( 1680 ) : \t 0.0051\n",
      "Loss( 1690 ) : \t 0.0048\n",
      "Loss( 1700 ) : \t 0.0058\n",
      "Loss( 1710 ) : \t 0.0057\n",
      "Loss( 1720 ) : \t 0.0052\n",
      "Loss( 1730 ) : \t 0.0055\n",
      "Loss( 1740 ) : \t 0.0048\n",
      "Loss( 1750 ) : \t 0.0053\n",
      "Loss( 1760 ) : \t 0.0058\n",
      "Loss( 1770 ) : \t 0.0047\n",
      "Loss( 1780 ) : \t 0.0046\n",
      "Loss( 1790 ) : \t 0.0042\n",
      "Loss( 1800 ) : \t 0.0049\n",
      "Loss( 1810 ) : \t 0.004\n",
      "Loss( 1820 ) : \t 0.0048\n",
      "Loss( 1830 ) : \t 0.0042\n",
      "Loss( 1840 ) : \t 0.0048\n",
      "Loss( 1850 ) : \t 0.0043\n",
      "Loss( 1860 ) : \t 0.0048\n",
      "Loss( 1870 ) : \t 0.0048\n"
     ]
    }
   ],
   "source": [
    "#supervised\n",
    "data_loader = DataLoader(noisy_mnist_train, batch_size=32, shuffle=True)\n",
    "\n",
    "for epoch in range(1):\n",
    "    for i, batch in enumerate(data_loader):\n",
    "        noisy_images, clean_images = batch\n",
    "        \n",
    "        output = model(noisy_images)\n",
    "        \n",
    "        loss = loss_function(output, clean_images)\n",
    "        \n",
    "        optimizer.zero_grad()\n",
    "        \n",
    "        loss.backward()\n",
    "        \n",
    "        optimizer.step()\n",
    "        \n",
    "        if i % 10 == 0:\n",
    "            print(\"Loss(\", i, \") : \\t\", round(loss.item(), 4))"
   ]
  },
  {
   "cell_type": "code",
   "execution_count": null,
   "metadata": {},
   "outputs": [],
   "source": [
    "print(data_loader)\n",
    "print(i)"
   ]
  },
  {
   "cell_type": "code",
   "execution_count": 14,
   "metadata": {},
   "outputs": [],
   "source": [
    "test_data_loader = DataLoader(noisy_mnist_test,\n",
    "                                              batch_size=32,\n",
    "                                              shuffle=False,\n",
    "                                              num_workers=3)\n",
    "i, test_batch = next(enumerate(test_data_loader))\n",
    "noisy, clean = test_batch"
   ]
  },
  {
   "cell_type": "markdown",
   "metadata": {},
   "source": [
    "With our trained model, we have a choice. We may do a full $J$-invariant reconstruction, or we may just run the noisy data through the network unaltered."
   ]
  },
  {
   "cell_type": "code",
   "execution_count": 15,
   "metadata": {},
   "outputs": [],
   "source": [
    "simple_output = model(noisy)\n",
    "invariant_output = masker.infer_full_image(noisy, model)"
   ]
  },
  {
   "cell_type": "code",
   "execution_count": 16,
   "metadata": {},
   "outputs": [
    {
     "data": {
      "image/png": "[encoded data removed]",
      "text/plain": [
       "<Figure size 1152x288 with 4 Axes>"
      ]
     },
     "metadata": {},
     "output_type": "display_data"
    }
   ],
   "source": [
    "idx = 3\n",
    "plot_tensors([clean[idx], noisy[idx], simple_output[idx], invariant_output[idx]],\n",
    "            [\"Ground Truth\", \"Noisy Image\", \"Single Pass Inference\", \"J-Invariant Inference\"])"
   ]
  },
  {
   "cell_type": "code",
   "execution_count": 18,
   "metadata": {},
   "outputs": [
    {
     "name": "stdout",
     "output_type": "stream",
     "text": [
      "Test loss, single pass:  0.005\n",
      "Test loss, J-invariant:  0.005\n"
     ]
    }
   ],
   "source": [
    "print(\"Test loss, single pass: \", round(loss_function(clean, simple_output).item(), 3))\n",
    "print(\"Test loss, J-invariant: \", round(loss_function(clean, invariant_output).item(), 3))"
   ]
  },
  {
   "cell_type": "markdown",
   "metadata": {},
   "source": [
    "While both the simple and invariant output are significantly denoised, the invariant output has a mild pixelation. \n",
    "\n",
    "This is due to the fact that neighboring pixels are denoised using different information, leading to discontinuities in the reconstructed output."
   ]
  },
  {
   "cell_type": "code",
   "execution_count": 19,
   "metadata": {},
   "outputs": [
    {
     "name": "stdout",
     "output_type": "stream",
     "text": [
      "Test ssim, simple pass:  0.7596167325973511\n",
      "Test ssim, J-invariant:  0.7525436878204346\n",
      "tensor(1.)\n",
      "Test psnr, simple pass:  tensor(23.7366, grad_fn=<MeanBackward0>)\n",
      "Test psnr, J-invariant:  tensor(22.9369, grad_fn=<MeanBackward0>)\n"
     ]
    }
   ],
   "source": [
    "from util import ssim, psnr\n",
    "import torch\n",
    "print(\"Test ssim, simple pass: \", ssim(clean, simple_output).item())\n",
    "print(\"Test ssim, J-invariant: \", ssim(clean, invariant_output).item())\n",
    "print(torch.max(clean))\n",
    "print(\"Test psnr, simple pass: \", torch.mean(psnr(clean, simple_output)))\n",
    "print(\"Test psnr, J-invariant: \", torch.mean(psnr(clean, invariant_output)))"
   ]
  },
  {
   "cell_type": "code",
   "execution_count": 20,
   "metadata": {},
   "outputs": [
    {
     "data": {
      "image/png": "[encoded data removed]",
      "text/plain": [
       "<Figure size 864x288 with 3 Axes>"
      ]
     },
     "metadata": {},
     "output_type": "display_data"
    }
   ],
   "source": [
    "from PIL import Image\n",
    "\n",
    "loader = transforms.Compose([\n",
    "    transforms.Resize([64,64]),transforms.ToTensor()]) \n",
    "blurred_meta = Image.open('../figs/blurred_meta.bmp')\n",
    "blurred_meta = loader(blurred_meta).unsqueeze(0)\n",
    "blurred_meta.to(blurred_meta.device)\n",
    "\n",
    "simple_out_meta = model(blurred_meta)\n",
    "invariant_out_meta = masker.infer_full_image(blurred_meta, model)\n",
    "\n",
    "plot_tensors([blurred_meta, simple_out_meta, invariant_out_meta],\n",
    "            [\"blurred Image\", \"Single Pass Inference\", \"J-Invariant Inference\"])"
   ]
  }
 ],
 "metadata": {
  "kernelspec": {
   "display_name": "Python 3",
   "language": "python",
   "name": "python3"
  },
  "language_info": {
   "codemirror_mode": {
    "name": "ipython",
    "version": 3
   },
   "file_extension": ".py",
   "mimetype": "text/x-python",
   "name": "python",
   "nbconvert_exporter": "python",
   "pygments_lexer": "ipython3",
   "version": "3.7.7"
  }
 },
 "nbformat": 4,
 "nbformat_minor": 2
}
