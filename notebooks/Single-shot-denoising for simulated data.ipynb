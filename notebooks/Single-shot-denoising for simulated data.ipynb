{
 "cells": [
  {
   "cell_type": "markdown",
   "metadata": {},
   "source": [
    "# Single-shot denoising for simulated data"
   ]
  },
  {
   "cell_type": "markdown",
   "metadata": {},
   "source": [
    "Use dncnn with kernelpredicting to denoise simulated data.\n",
    "We demonstrate that a deep neural net can be trained to denoise a single noisy image, taking advantage of the fact that one 512 x 512 image contains ~250,000 dimensions of information."
   ]
  },
  {
   "cell_type": "code",
   "execution_count": 1,
   "metadata": {},
   "outputs": [],
   "source": [
    "%load_ext autoreload\n",
    "%autoreload 2\n",
    "%matplotlib inline"
   ]
  },
  {
   "cell_type": "code",
   "execution_count": 2,
   "metadata": {},
   "outputs": [],
   "source": [
    "import sys\n",
    "sys.path.append(\"..\")"
   ]
  },
  {
   "cell_type": "code",
   "execution_count": 3,
   "metadata": {},
   "outputs": [],
   "source": [
    "from util import show, plot_images, plot_tensors"
   ]
  },
  {
   "cell_type": "code",
   "execution_count": 4,
   "metadata": {},
   "outputs": [],
   "source": [
    "import numpy as np\n",
    "import matplotlib.pyplot as plt\n",
    "from skimage.morphology import disk\n",
    "from skimage.filters import gaussian, median\n",
    "from skimage import data, img_as_float, img_as_ubyte\n",
    "from skimage.color import gray2rgb\n",
    "from skimage.util import random_noise\n",
    "from skimage.measure import compare_psnr"
   ]
  },
  {
   "cell_type": "code",
   "execution_count": 5,
   "metadata": {},
   "outputs": [],
   "source": [
    "from skimage.io import imread, imsave\n",
    "plt.rc('figure', figsize = (5,5))"
   ]
  },
  {
   "cell_type": "code",
   "execution_count": 6,
   "metadata": {},
   "outputs": [
    {
     "data": {
      "image/png": "[encoded data removed]",
      "text/plain": [
       "<Figure size 360x360 with 2 Axes>"
      ]
     },
     "metadata": {},
     "output_type": "display_data"
    }
   ],
   "source": [
    "from skimage import transform\n",
    "from skimage import data, img_as_float, img_as_ubyte\n",
    "image = imread('../figs/origin_meta.bmp')#numpy\n",
    "image = img_as_float(image)\n",
    "noisy_image = imread('../figs/blurred_meta.bmp')#numpy\n",
    "noisy_image = img_as_float(noisy_image)\n",
    "plt.subplot(1,2,1)\n",
    "show(image)\n",
    "plt.subplot(1,2,2)\n",
    "show(noisy_image)"
   ]
  },
  {
   "cell_type": "code",
   "execution_count": 7,
   "metadata": {},
   "outputs": [
    {
     "name": "stdout",
     "output_type": "stream",
     "text": [
      "torch.Size([1, 1, 60, 60])\n"
     ]
    }
   ],
   "source": [
    "import torch\n",
    "noisy = torch.Tensor(noisy_image[np.newaxis, np.newaxis])\n",
    "#image = torch.Tensor(image[np.newaxis, np.newaxis])#input & output cant use same name\n",
    "print(noisy.shape)"
   ]
  },
  {
   "cell_type": "code",
   "execution_count": null,
   "metadata": {},
   "outputs": [],
   "source": [
    "#plot_tensors([noisy, clean])"
   ]
  },
  {
   "cell_type": "markdown",
   "metadata": {},
   "source": [
    "# Masking"
   ]
  },
  {
   "cell_type": "markdown",
   "metadata": {},
   "source": [
    "The strategy is to train a $J$-invariant version of a neural net by replacing a grid of pixels with the average of their neighbors, then only evaluating the model on the masked pixels."
   ]
  },
  {
   "cell_type": "code",
   "execution_count": 8,
   "metadata": {},
   "outputs": [],
   "source": [
    "from mask import Masker\n",
    "masker = Masker(width = 4, mode='interpolate')"
   ]
  },
  {
   "cell_type": "markdown",
   "metadata": {},
   "source": [
    "# Model"
   ]
  },
  {
   "cell_type": "markdown",
   "metadata": {},
   "source": [
    "For our model, we use a dncnn with kernelpredicting."
   ]
  },
  {
   "cell_type": "code",
   "execution_count": 9,
   "metadata": {},
   "outputs": [],
   "source": [
    "from models.babyunet import BabyUnet\n",
    "from models.unet import Unet\n",
    "from models.dncnn import DnCNN, DnCNNKernel, ResCNN\n",
    "\n",
    "from models.kernelpredicting import KernelPredicting\n",
    "\n",
    "model = DnCNNKernel(1, num_of_layers = 8)\n",
    "# model = ResCNN(1, 32, 8)\n",
    "#model = KernelPredicting(1, DnCNN, kernel_width=15,\n",
    "#                         depth= 6,\n",
    "#                          features= 32)"
   ]
  },
  {
   "cell_type": "code",
   "execution_count": 10,
   "metadata": {},
   "outputs": [
    {
     "data": {
      "text/plain": [
       "17760"
      ]
     },
     "execution_count": 10,
     "metadata": {},
     "output_type": "execute_result"
    }
   ],
   "source": [
    "sum(p.numel() for p in model.parameters() if p.requires_grad)"
   ]
  },
  {
   "cell_type": "code",
   "execution_count": null,
   "metadata": {},
   "outputs": [],
   "source": [
    "#image.ravel().shape"
   ]
  },
  {
   "cell_type": "markdown",
   "metadata": {},
   "source": [
    "# Training"
   ]
  },
  {
   "cell_type": "code",
   "execution_count": 11,
   "metadata": {},
   "outputs": [],
   "source": [
    "from torch.nn import MSELoss, L1Loss\n",
    "from torch.optim import Adam\n",
    "\n",
    "loss_function = MSELoss()\n",
    "optimizer = Adam(model.parameters(), lr=0.01)"
   ]
  },
  {
   "cell_type": "code",
   "execution_count": 12,
   "metadata": {},
   "outputs": [
    {
     "data": {
      "text/plain": [
       "torch.Size([1, 1, 60, 60])"
      ]
     },
     "execution_count": 12,
     "metadata": {},
     "output_type": "execute_result"
    }
   ],
   "source": [
    "noisy.shape"
   ]
  },
  {
   "cell_type": "code",
   "execution_count": 13,
   "metadata": {},
   "outputs": [
    {
     "name": "stdout",
     "output_type": "stream",
     "text": [
      "( 0 ) Loss: \t 6e-05 \tVal Loss: \t 0.00036\n",
      "(60, 60)\n",
      "(60, 60)\n",
      "\tModel PSNR:  14.5\n",
      "( 5 ) Loss: \t 2e-05 \tVal Loss: \t 0.0003\n",
      "(60, 60)\n",
      "(60, 60)\n",
      "\tModel PSNR:  14.57\n",
      "( 10 ) Loss: \t 2e-05 \tVal Loss: \t 9e-05\n",
      "(60, 60)\n",
      "(60, 60)\n",
      "\tModel PSNR:  14.77\n"
     ]
    },
    {
     "name": "stderr",
     "output_type": "stream",
     "text": [
      "/home/disk/disk1/LiuTQ/anaconda3/lib/python3.7/site-packages/ipykernel_launcher.py:42: UserWarning: DEPRECATED: skimage.measure.compare_psnr has been moved to skimage.metrics.peak_signal_noise_ratio. It will be removed from skimage.measure in version 0.18.\n"
     ]
    },
    {
     "name": "stdout",
     "output_type": "stream",
     "text": [
      "( 15 ) Loss: \t 2e-05 \tVal Loss: \t 3e-05\n",
      "(60, 60)\n",
      "(60, 60)\n",
      "\tModel PSNR:  14.89\n",
      "( 20 ) Loss: \t 1e-05 \tVal Loss: \t 3e-05\n",
      "(60, 60)\n",
      "(60, 60)\n",
      "\tModel PSNR:  14.91\n",
      "( 25 ) Loss: \t 1e-05 \tVal Loss: \t 4e-05\n",
      "( 30 ) Loss: \t 2e-05 \tVal Loss: \t 4e-05\n",
      "( 35 ) Loss: \t 1e-05 \tVal Loss: \t 3e-05\n",
      "( 40 ) Loss: \t 1e-05 \tVal Loss: \t 3e-05\n",
      "(60, 60)\n",
      "(60, 60)\n",
      "\tModel PSNR:  14.96\n",
      "( 45 ) Loss: \t 1e-05 \tVal Loss: \t 3e-05\n",
      "(60, 60)\n",
      "(60, 60)\n",
      "\tModel PSNR:  14.97\n",
      "( 50 ) Loss: \t 1e-05 \tVal Loss: \t 3e-05\n",
      "(60, 60)\n",
      "(60, 60)\n",
      "\tModel PSNR:  14.96\n",
      "( 55 ) Loss: \t 1e-05 \tVal Loss: \t 3e-05\n",
      "( 60 ) Loss: \t 1e-05 \tVal Loss: \t 3e-05\n",
      "( 65 ) Loss: \t 1e-05 \tVal Loss: \t 3e-05\n",
      "(60, 60)\n",
      "(60, 60)\n",
      "\tModel PSNR:  14.95\n",
      "( 70 ) Loss: \t 1e-05 \tVal Loss: \t 2e-05\n",
      "(60, 60)\n",
      "(60, 60)\n",
      "\tModel PSNR:  14.92\n",
      "( 75 ) Loss: \t 1e-05 \tVal Loss: \t 3e-05\n",
      "( 80 ) Loss: \t 1e-05 \tVal Loss: \t 3e-05\n",
      "( 85 ) Loss: \t 1e-05 \tVal Loss: \t 3e-05\n",
      "( 90 ) Loss: \t 1e-05 \tVal Loss: \t 2e-05\n",
      "(60, 60)\n",
      "(60, 60)\n",
      "\tModel PSNR:  14.96\n",
      "( 95 ) Loss: \t 1e-05 \tVal Loss: \t 2e-05\n",
      "(60, 60)\n",
      "(60, 60)\n",
      "\tModel PSNR:  14.97\n",
      "( 100 ) Loss: \t 1e-05 \tVal Loss: \t 2e-05\n",
      "( 105 ) Loss: \t 1e-05 \tVal Loss: \t 2e-05\n",
      "( 110 ) Loss: \t 0.0 \tVal Loss: \t 2e-05\n",
      "( 115 ) Loss: \t 1e-05 \tVal Loss: \t 2e-05\n",
      "( 120 ) Loss: \t 0.0 \tVal Loss: \t 2e-05\n",
      "(60, 60)\n",
      "(60, 60)\n",
      "\tModel PSNR:  14.94\n",
      "( 125 ) Loss: \t 0.0 \tVal Loss: \t 2e-05\n",
      "( 130 ) Loss: \t 1e-05 \tVal Loss: \t 2e-05\n",
      "( 135 ) Loss: \t 1e-05 \tVal Loss: \t 2e-05\n",
      "( 140 ) Loss: \t 0.0 \tVal Loss: \t 2e-05\n",
      "( 145 ) Loss: \t 1e-05 \tVal Loss: \t 2e-05\n",
      "( 150 ) Loss: \t 1e-05 \tVal Loss: \t 2e-05\n",
      "( 155 ) Loss: \t 0.0 \tVal Loss: \t 2e-05\n",
      "(60, 60)\n",
      "(60, 60)\n",
      "\tModel PSNR:  14.97\n",
      "( 160 ) Loss: \t 1e-05 \tVal Loss: \t 2e-05\n",
      "( 165 ) Loss: \t 1e-05 \tVal Loss: \t 2e-05\n",
      "( 170 ) Loss: \t 0.0 \tVal Loss: \t 2e-05\n",
      "( 175 ) Loss: \t 1e-05 \tVal Loss: \t 1e-05\n",
      "(60, 60)\n",
      "(60, 60)\n",
      "\tModel PSNR:  14.95\n",
      "( 180 ) Loss: \t 0.0 \tVal Loss: \t 2e-05\n",
      "( 185 ) Loss: \t 0.0 \tVal Loss: \t 2e-05\n",
      "( 190 ) Loss: \t 1e-05 \tVal Loss: \t 2e-05\n",
      "( 195 ) Loss: \t 0.0 \tVal Loss: \t 2e-05\n",
      "( 200 ) Loss: \t 0.0 \tVal Loss: \t 2e-05\n",
      "( 205 ) Loss: \t 1e-05 \tVal Loss: \t 2e-05\n",
      "( 210 ) Loss: \t 0.0 \tVal Loss: \t 1e-05\n",
      "(60, 60)\n",
      "(60, 60)\n",
      "\tModel PSNR:  14.94\n",
      "( 215 ) Loss: \t 0.0 \tVal Loss: \t 2e-05\n",
      "( 220 ) Loss: \t 1e-05 \tVal Loss: \t 1e-05\n",
      "( 225 ) Loss: \t 0.0 \tVal Loss: \t 1e-05\n",
      "(60, 60)\n",
      "(60, 60)\n",
      "\tModel PSNR:  14.94\n",
      "( 230 ) Loss: \t 0.0 \tVal Loss: \t 2e-05\n",
      "( 235 ) Loss: \t 1e-05 \tVal Loss: \t 2e-05\n",
      "( 240 ) Loss: \t 0.0 \tVal Loss: \t 1e-05\n",
      "(60, 60)\n",
      "(60, 60)\n",
      "\tModel PSNR:  14.92\n",
      "( 245 ) Loss: \t 0.0 \tVal Loss: \t 1e-05\n",
      "( 250 ) Loss: \t 1e-05 \tVal Loss: \t 2e-05\n",
      "( 255 ) Loss: \t 0.0 \tVal Loss: \t 1e-05\n",
      "( 260 ) Loss: \t 0.0 \tVal Loss: \t 1e-05\n",
      "( 265 ) Loss: \t 1e-05 \tVal Loss: \t 2e-05\n",
      "( 270 ) Loss: \t 1e-05 \tVal Loss: \t 1e-05\n",
      "( 275 ) Loss: \t 0.0 \tVal Loss: \t 1e-05\n",
      "(60, 60)\n",
      "(60, 60)\n",
      "\tModel PSNR:  14.95\n",
      "( 280 ) Loss: \t 0.0 \tVal Loss: \t 1e-05\n",
      "( 285 ) Loss: \t 1e-05 \tVal Loss: \t 1e-05\n",
      "( 290 ) Loss: \t 0.0 \tVal Loss: \t 1e-05\n",
      "( 295 ) Loss: \t 1e-05 \tVal Loss: \t 1e-05\n",
      "( 300 ) Loss: \t 0.0 \tVal Loss: \t 1e-05\n",
      "( 305 ) Loss: \t 0.0 \tVal Loss: \t 1e-05\n",
      "( 310 ) Loss: \t 1e-05 \tVal Loss: \t 1e-05\n",
      "( 315 ) Loss: \t 0.0 \tVal Loss: \t 1e-05\n",
      "(60, 60)\n",
      "(60, 60)\n",
      "\tModel PSNR:  14.93\n",
      "( 320 ) Loss: \t 0.0 \tVal Loss: \t 1e-05\n",
      "( 325 ) Loss: \t 1e-05 \tVal Loss: \t 1e-05\n",
      "( 330 ) Loss: \t 1e-05 \tVal Loss: \t 1e-05\n",
      "( 335 ) Loss: \t 0.0 \tVal Loss: \t 1e-05\n",
      "( 340 ) Loss: \t 0.0 \tVal Loss: \t 1e-05\n",
      "( 345 ) Loss: \t 1e-05 \tVal Loss: \t 1e-05\n",
      "( 350 ) Loss: \t 0.0 \tVal Loss: \t 1e-05\n",
      "( 355 ) Loss: \t 0.0 \tVal Loss: \t 1e-05\n",
      "( 360 ) Loss: \t 0.0 \tVal Loss: \t 1e-05\n",
      "( 365 ) Loss: \t 0.0 \tVal Loss: \t 1e-05\n",
      "( 370 ) Loss: \t 1e-05 \tVal Loss: \t 1e-05\n",
      "( 375 ) Loss: \t 1e-05 \tVal Loss: \t 1e-05\n",
      "( 380 ) Loss: \t 0.0 \tVal Loss: \t 1e-05\n",
      "( 385 ) Loss: \t 0.0 \tVal Loss: \t 1e-05\n",
      "( 390 ) Loss: \t 1e-05 \tVal Loss: \t 1e-05\n",
      "( 395 ) Loss: \t 0.0 \tVal Loss: \t 1e-05\n",
      "( 400 ) Loss: \t 0.0 \tVal Loss: \t 1e-05\n",
      "( 405 ) Loss: \t 1e-05 \tVal Loss: \t 1e-05\n",
      "(60, 60)\n",
      "(60, 60)\n",
      "\tModel PSNR:  14.99\n",
      "( 410 ) Loss: \t 0.0 \tVal Loss: \t 1e-05\n",
      "( 415 ) Loss: \t 0.0 \tVal Loss: \t 1e-05\n",
      "( 420 ) Loss: \t 1e-05 \tVal Loss: \t 1e-05\n",
      "(60, 60)\n",
      "(60, 60)\n",
      "\tModel PSNR:  14.96\n",
      "( 425 ) Loss: \t 0.0 \tVal Loss: \t 2e-05\n",
      "( 430 ) Loss: \t 0.0 \tVal Loss: \t 1e-05\n",
      "( 435 ) Loss: \t 1e-05 \tVal Loss: \t 1e-05\n",
      "( 440 ) Loss: \t 0.0 \tVal Loss: \t 1e-05\n",
      "( 445 ) Loss: \t 1e-05 \tVal Loss: \t 1e-05\n",
      "( 450 ) Loss: \t 1e-05 \tVal Loss: \t 1e-05\n",
      "( 455 ) Loss: \t 0.0 \tVal Loss: \t 1e-05\n",
      "( 460 ) Loss: \t 0.0 \tVal Loss: \t 1e-05\n",
      "( 465 ) Loss: \t 1e-05 \tVal Loss: \t 1e-05\n",
      "( 470 ) Loss: \t 0.0 \tVal Loss: \t 1e-05\n",
      "(60, 60)\n",
      "(60, 60)\n",
      "\tModel PSNR:  14.94\n",
      "( 475 ) Loss: \t 0.0 \tVal Loss: \t 1e-05\n",
      "( 480 ) Loss: \t 0.0 \tVal Loss: \t 1e-05\n",
      "( 485 ) Loss: \t 0.0 \tVal Loss: \t 1e-05\n",
      "( 490 ) Loss: \t 0.0 \tVal Loss: \t 1e-05\n",
      "( 495 ) Loss: \t 0.0 \tVal Loss: \t 1e-05\n"
     ]
    }
   ],
   "source": [
    "losses = []\n",
    "val_losses = []\n",
    "best_images = []\n",
    "best_val_loss = 1\n",
    "\n",
    "\n",
    "for i in range(500):\n",
    "    model.train()\n",
    "    \n",
    "    net_input, mask = masker.mask(noisy, i%(masker.n_masks-1))\n",
    "    net_output = model(net_input)\n",
    "    #print(net_output.shape)\n",
    "    #print(noisy.shape)\n",
    "    \n",
    "    loss = loss_function(net_output*mask, noisy*mask)\n",
    "    \n",
    "    optimizer.zero_grad()\n",
    " \n",
    "    loss.backward()\n",
    "    \n",
    "    optimizer.step()\n",
    "    losses.append(loss.item())\n",
    "    \n",
    "    if i % 5 == 0:\n",
    "        losses.append(loss.item())\n",
    "        model.eval()\n",
    "        \n",
    "        net_input, mask = masker.mask(noisy, masker.n_masks - 1)\n",
    "        net_output = model(net_input)\n",
    "    \n",
    "        val_loss = loss_function(net_output*mask, noisy*mask)\n",
    "        \n",
    "        val_losses.append(val_loss.item())\n",
    "        \n",
    "        print(\"(\", i, \") Loss: \\t\", round(loss.item(), 5), \"\\tVal Loss: \\t\", round(val_loss.item(), 5))\n",
    "\n",
    "        if val_loss < best_val_loss:\n",
    "            best_val_loss = val_loss\n",
    "            denoised = np.clip(model(noisy).detach().cpu().numpy()[0, 0], 0, 1).astype(np.float64)\n",
    "            #print(denoised.shape)\n",
    "            #print(image.shape)\n",
    "            best_psnr = compare_psnr(denoised, image)\n",
    "            best_images.append(denoised)\n",
    "            print(\"\\tModel PSNR: \", np.round(best_psnr, 2))"
   ]
  },
  {
   "cell_type": "code",
   "execution_count": 14,
   "metadata": {},
   "outputs": [
    {
     "data": {
      "text/plain": [
       "[<matplotlib.lines.Line2D at 0x7f740cd925d0>]"
      ]
     },
     "execution_count": 14,
     "metadata": {},
     "output_type": "execute_result"
    },
    {
     "data": {
      "image/png": "[encoded data removed]",
      "text/plain": [
       "<Figure size 360x360 with 1 Axes>"
      ]
     },
     "metadata": {
      "needs_background": "light"
     },
     "output_type": "display_data"
    }
   ],
   "source": [
    "plt.plot(losses)"
   ]
  },
  {
   "cell_type": "code",
   "execution_count": 15,
   "metadata": {},
   "outputs": [
    {
     "data": {
      "image/png": "[encoded data removed]",
      "text/plain": [
       "<Figure size 3456x288 with 12 Axes>"
      ]
     },
     "metadata": {},
     "output_type": "display_data"
    }
   ],
   "source": [
    "plot_images(best_images[::2])"
   ]
  },
  {
   "cell_type": "code",
   "execution_count": 16,
   "metadata": {},
   "outputs": [],
   "source": [
    "denoised = best_images[-1]\n",
    "#print(denoised)"
   ]
  },
  {
   "cell_type": "code",
   "execution_count": 17,
   "metadata": {},
   "outputs": [
    {
     "name": "stderr",
     "output_type": "stream",
     "text": [
      "/home/disk/disk1/LiuTQ/anaconda3/lib/python3.7/site-packages/ipykernel_launcher.py:1: UserWarning: DEPRECATED: skimage.measure.compare_psnr has been moved to skimage.metrics.peak_signal_noise_ratio. It will be removed from skimage.measure in version 0.18.\n",
      "  \"\"\"Entry point for launching an IPython kernel.\n"
     ]
    },
    {
     "data": {
      "text/plain": [
       "14.935560594513035"
      ]
     },
     "execution_count": 17,
     "metadata": {},
     "output_type": "execute_result"
    }
   ],
   "source": [
    "compare_psnr(denoised, image)"
   ]
  },
  {
   "cell_type": "code",
   "execution_count": 19,
   "metadata": {},
   "outputs": [
    {
     "name": "stdout",
     "output_type": "stream",
     "text": [
      "torch.Size([1, 1, 60, 60])\n",
      "torch.Size([1, 1, 60, 60])\n",
      "torch.Size([1, 1, 60, 60])\n"
     ]
    },
    {
     "data": {
      "image/png": "[encoded data removed]",
      "text/plain": [
       "<Figure size 864x288 with 3 Axes>"
      ]
     },
     "metadata": {},
     "output_type": "display_data"
    }
   ],
   "source": [
    "image_ = torch.Tensor(image[np.newaxis, np.newaxis])\n",
    "denoised_ = torch.Tensor(denoised[np.newaxis, np.newaxis])\n",
    "print(image_.shape)\n",
    "print(denoised_.shape)\n",
    "print(noisy.shape)\n",
    "plot_tensors([image_, noisy, denoised_],[\"clean\", \"noisy\", \"denoised\"])"
   ]
  },
  {
   "cell_type": "code",
   "execution_count": null,
   "metadata": {},
   "outputs": [],
   "source": []
  }
 ],
 "metadata": {
  "kernelspec": {
   "display_name": "Python 3",
   "language": "python",
   "name": "python3"
  },
  "language_info": {
   "codemirror_mode": {
    "name": "ipython",
    "version": 3
   },
   "file_extension": ".py",
   "mimetype": "text/x-python",
   "name": "python",
   "nbconvert_exporter": "python",
   "pygments_lexer": "ipython3",
   "version": "3.7.7"
  }
 },
 "nbformat": 4,
 "nbformat_minor": 4
}
